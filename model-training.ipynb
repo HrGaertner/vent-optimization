{
 "cells": [
  {
   "cell_type": "code",
   "execution_count": 1,
   "id": "4a410fb3",
   "metadata": {},
   "outputs": [],
   "source": [
    "import numpy as np\n",
    "import matplotlib.pyplot as plt\n",
    "import scipy.optimize as sco\n",
    "import pandas as pd"
   ]
  },
  {
   "cell_type": "code",
   "execution_count": 2,
   "id": "72ac1bcd",
   "metadata": {},
   "outputs": [],
   "source": [
    "vent = pd.read_csv(\"vent.csv\", sep=\";\")\n",
    "vent[\"time\"] = pd.to_datetime(vent[\"time\"], format=\"%Y-%m-%d %H:%M:%S\")  # Make time to type time\n",
    "vent = vent[vent[\"Id\"] !=10] # Dropping line going up\n",
    "vent = vent[vent[\"local time\"] < 55]",
    "\n",
    "# Needed to have one column regardless of which room the venting was in\n",
    "def temperature_deduction(row):\n",
    "    if row[\"room\"] == \"up\":\n",
    "        return row[\"temperature_bathoroom_upstairs\"]\n",
    "    elif row[\"room\"] == \"mid\" or row[\"room\"] == \"middle\":\n",
    "        return row[\"temperature_bathroom_middle\"]\n",
    "    else:\n",
    "        raise Exception(\"unkonwn floor: \" + row[\"room\"])\n",
    "vent[\"temperature\"] = vent.apply(lambda row: temperature_deduction(row), axis=1)\n",
    "\n",
    "def config_code_to_size(row): # Converting the window code to the actual sizes\n",
    "    code_mid = {1: 0.8*0.95, 2: 2*0.8*0.95, 3: 0.95*0.15 + 0.80*0.005, 4: 2*(0.95*0.15 + 0.80*0.005)}\n",
    "    code_up = 0.6*0.9\n",
    "    \n",
    "    if row[\"room\"] == \"mid\":\n",
    "        return code_mid[row[\"Config\"]]\n",
    "    else:\n",
    "        return code_up\n",
    "\n",
    "vent[\"Config\"] = vent.apply(lambda row: config_code_to_size(row), axis=1)\n",
    "\n",
    "def config_code_to_size(row): # Converting the window code to the actual sizes\n",
    "    if row[\"room\"] == \"mid\":\n",
    "        return 15*3\n",
    "    else:\n",
    "        return 10*3\n",
    "\n",
    "vent[\"room\"] = vent.apply(lambda row: config_code_to_size(row), axis=1)\n",
    "\n",
    "def first_value(row):\n",
    "    first_values_local =  vent[(row[\"Id\"] == vent[\"Id\"]) & (vent[\"local time\"] == 0)]\n",
    "    try:\n",
    "        return first_values_local[\"absolute\"].values[0], first_values_local[\"temperature\"].values[0], first_values_local[\"absolute_outside\"].values[0], first_values_local[\"temperature_outside\"].values[0]\n",
    "    except:\n",
    "        return pd.NA, pd.NA, pd.NA, pd.NA\n",
    "\n",
    "# Variables we only know from the first point in \"production\" so this is being simulated\n",
    "first_values = vent.apply(\n",
    "            lambda row: pd.Series(first_value(row), index=[\"humidity\", \"temperature\", \"humidity_outside\",\n",
    "                                                           \"temperature_outside\"]), axis=1)\n",
    "\n",
    "relevant_vent = vent[[\"room\", \"Config\", \"local time\"]]  # In the end this will be a minimum subset of data needed\n",
    "# (column wise) so we do not drop too many lines removing NaNs\n",
    "\n",
    "relevant_vent_hum = relevant_vent.copy()  # trainings data for the humidity model\n",
    "relevant_vent_hum[\"humidity_goal\"] = vent[\"absolute\"]\n",
    "relevant_vent_hum = pd.concat([first_values[[\"humidity_outside\", \"humidity\"]], relevant_vent_hum], axis=1).dropna(axis=0, how=\"any\")\n",
    "relevant_vent_hum = relevant_vent_hum.apply(pd.to_numeric)\n",
    "\n",
    "relevant_vent_temp = relevant_vent.copy()  # trainingsdata for the temperature model\n",
    "relevant_vent_temp[\"temperature_goal\"] = vent[\"temperature\"]\n",
    "relevant_vent_temp = pd.concat([first_values[[\"temperature\", \"temperature_outside\"]], relevant_vent_temp], axis=1).dropna(axis=0, how=\"any\")\n",
    "relevant_vent_temp = relevant_vent_temp.apply(pd.to_numeric)"
   ]
  },
  {
   "cell_type": "code",
   "execution_count": 3,
   "id": "392e5708",
   "metadata": {},
   "outputs": [],
   "source": [
    "def h(h_0, h_out, F_größe, R_größe, t, k_1, k_2, k_3):  # The venting model\n",
    "    #return (h_0 - h_out)*k_2 /(k_2 + t**((k_1*F_größe)/k_3*R_größe)) + h_out\n",
    "    return (h_0 - h_out)*k_2 /(k_2 + t**((k_1*F_größe)/(k_3*R_größe))) + h_out\n",
    "\n",
    "def T(T_0, T_out, F_größe, R_größe, t, k_0, k_1, k_2, k_3): # The temperature model\n",
    "    return (T_0-(T_out*k_0))*(k_2)/(t**(k_1/(k_3*R_größe))+ k_2) + (T_out* k_0)"
   ]
  },
  {
   "cell_type": "code",
   "execution_count": 4,
   "id": "56ede189",
   "metadata": {},
   "outputs": [],
   "source": [
    "def get_F(T_0, T_out, F_größe, R_größe, t, L_in, func):\n",
    "    def F(parameters):\n",
    "        return sum((func(T_0, T_out, F_größe, R_größe, t, *parameters) - L_in)**2) # The sum of all errors through all measurements\n",
    "    return F\n",
    "\n",
    "\n",
    "\n",
    "# Functions generating the square error for given constants\n",
    "error_sum_h = get_F(relevant_vent_hum[\"humidity\"], relevant_vent_hum[\"humidity_outside\"], \n",
    "                    relevant_vent_hum[\"Config\"], \n",
    "                    relevant_vent_hum[\"room\"], relevant_vent_hum[\"local time\"], relevant_vent_hum[\"humidity_goal\"], h)\n",
    "\n",
    "error_sum_T = get_F(relevant_vent_temp[\"temperature\"], relevant_vent_temp[\"temperature_outside\"], \n",
    "                    relevant_vent_temp[\"Config\"], \n",
    "                    relevant_vent_temp[\"room\"], relevant_vent_temp[\"local time\"], relevant_vent_temp[\"temperature_goal\"], T)"
   ]
  },
  {
   "cell_type": "code",
   "execution_count": 5,
   "id": "8894dfa9",
   "metadata": {},
   "outputs": [
    {
     "data": {
      "text/plain": [
       " active_mask: array([0., 0., 0.])\n",
       "        cost: 837.597689193579\n",
       "         fun: array([40.92915072])\n",
       "        grad: array([ 0.25531916,  6.64637486, -8.03739905])\n",
       "         jac: array([[ 0.00623808,  0.16238731, -0.19637346]])\n",
       "     message: 'The maximum number of function evaluations is exceeded.'\n",
       "        nfev: 300\n",
       "        njev: 289\n",
       "  optimality: 8.037399050659632\n",
       "      status: 0\n",
       "     success: False\n",
       "           x: array([ 8.02021433, 13.35220748,  0.25476616])"
      ]
     },
     "execution_count": 5,
     "metadata": {},
     "output_type": "execute_result"
    }
   ],
   "source": [
    "start_values = [ 8.02021947, 13.4428695 ,  0.25453565]\n",
    "\n",
    "res_h = sco.least_squares(error_sum_h, start_values)\n",
    "res_h"
   ]
  },
  {
   "cell_type": "code",
   "execution_count": 6,
   "id": "e22ae7d7",
   "metadata": {},
   "outputs": [
    {
     "data": {
      "text/plain": [
       " active_mask: array([0., 0., 0., 0.])\n",
       "        cost: 8076163.077114329\n",
       "         fun: array([4018.99566487])\n",
       "        grad: array([ 81885.64448193, -15510.01325825, -64242.31330554, 132269.00027173])\n",
       "         jac: array([[ 20.3746536 ,  -3.85917641, -15.98466848,  32.91095868]])\n",
       "     message: 'The maximum number of function evaluations is exceeded.'\n",
       "        nfev: 400\n",
       "        njev: 384\n",
       "  optimality: 132269.00027173012\n",
       "      status: 0\n",
       "     success: False\n",
       "           x: array([ 1.09504923, 13.04507119,  9.63370282,  1.5296808 ])"
      ]
     },
     "execution_count": 6,
     "metadata": {},
     "output_type": "execute_result"
    }
   ],
   "source": [
    "start_values = [1 , 6, 10, 0.1]\n",
    "\n",
    "res_T = sco.least_squares(error_sum_T, start_values)\n",
    "res_T"
   ]
  }
 ],
 "metadata": {
  "kernelspec": {
   "display_name": "Python 3 (ipykernel)",
   "language": "python",
   "name": "python3"
  },
  "language_info": {
   "codemirror_mode": {
    "name": "ipython",
    "version": 3
   },
   "file_extension": ".py",
   "mimetype": "text/x-python",
   "name": "python",
   "nbconvert_exporter": "python",
   "pygments_lexer": "ipython3",
   "version": "3.9.7"
  }
 },
 "nbformat": 4,
 "nbformat_minor": 5
}
