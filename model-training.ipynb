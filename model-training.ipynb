{
 "cells": [
  {
   "cell_type": "code",
   "execution_count": 1,
   "id": "4a410fb3",
   "metadata": {},
   "outputs": [],
   "source": [
    "import numpy as np\n",
    "import matplotlib.pyplot as plt\n",
    "import scipy.optimize as sco\n",
    "import pandas as pd"
   ]
  },
  {
   "cell_type": "code",
   "execution_count": 2,
   "id": "72ac1bcd",
   "metadata": {},
   "outputs": [],
   "source": [
    "vent = pd.read_csv(\"vent.csv\", sep=\";\")\n",
    "vent[\"time\"] = pd.to_datetime(vent[\"time\"], format=\"%Y-%m-%d %H:%M:%S\")  # Make time to type time\n",
    "\n",
    "vent = vent[vent[\"Id\"] !=10] # Dropping line going up (look at documentation)\n",
    "vent = vent[vent[\"local time\"] <70]\n",
    "\n",
    "# Needed to have one column regardless of which room the venting was in\n",
    "def temperature_deduction(row):\n",
    "    if row[\"room\"] == \"up\":\n",
    "        return row[\"temperature_bathoroom_upstairs\"]\n",
    "    elif row[\"room\"] == \"mid\" or row[\"room\"] == \"middle\":\n",
    "        return row[\"temperature_bathroom_middle\"]\n",
    "    else:\n",
    "        raise Exception(\"unkonwn floor: \" + row[\"room\"])\n",
    "vent[\"temperature\"] = vent.apply(lambda row: temperature_deduction(row), axis=1)\n",
    "\n",
    "def humidity_deduction(row):\n",
    "    if row[\"room\"] == \"up\":\n",
    "        return row[\"humidity_bathroom_upstairs\"]\n",
    "    elif row[\"room\"] == \"mid\" or row[\"room\"] == \"middle\":\n",
    "        return row[\"humidity_bathroom_middle\"]\n",
    "    else:\n",
    "        raise Exception(\"unkonwn floor: \" + row[\"room\"])\n",
    "vent[\"humidity_goal\"] = vent.apply(lambda row: humidity_deduction(row), axis=1)\n",
    "\n",
    "\n",
    "\n",
    "def config_code_to_size(row): # Converting the window code to the actual sizes\n",
    "    code_mid = {1: 0.8*0.95, 2: 2*0.8*0.95, 3: 0.95*0.15 + 0.80*0.005, 4: 2*(0.95*0.15 + 0.80*0.005)}\n",
    "    code_up = 0.6*0.9\n",
    "    \n",
    "    if row[\"room\"] == \"mid\":\n",
    "        return code_mid[row[\"Config\"]]\n",
    "    else:\n",
    "        return code_up\n",
    "\n",
    "vent[\"Config\"] = vent.apply(lambda row: config_code_to_size(row), axis=1)\n",
    "\n",
    "def room_code_to_size(row): # Converting the window code to the actual sizes\n",
    "    if row[\"room\"] == \"mid\":\n",
    "        return 15*3\n",
    "    else:\n",
    "        return 10*3\n",
    "\n",
    "vent[\"room\"] = vent.apply(lambda row: room_code_to_size(row), axis=1)\n",
    "\n",
    "def first_value(row):\n",
    "    first_values_local =  vent[(row[\"Id\"] == vent[\"Id\"]) & (vent[\"local time\"] == 0)]\n",
    "    try:\n",
    "        return first_values_local[\"humidity_goal\"].values[0], first_values_local[\"temperature\"].values[0], first_values_local[\"humidity_outside\"].values[0], first_values_local[\"temperature_outside\"].values[0]\n",
    "    except:\n",
    "        return pd.NA, pd.NA, pd.NA, pd.NA\n",
    "\n",
    "# Variables we only know from the first point in \"production\" so this is being simulated\n",
    "first_values = vent.apply(\n",
    "            lambda row: pd.Series(first_value(row), index=[\"humidity\", \"temperature\", \"humidity_outside\",\n",
    "                                                           \"temperature_outside\"]), axis=1)\n",
    "\n",
    "relevant_vent = vent[[\"room\", \"Config\", \"local time\", \"humidity_goal\"]]  # In the end this will be a minimum subset of data needed\n",
    "# (column wise) so we do not drop too many lines removing NaNs\n",
    "\n",
    "relevant_vent = pd.concat([first_values, relevant_vent], axis=1)\n",
    "relevant_vent = relevant_vent.dropna(axis=0, how=\"any\")\n",
    "relevant_vent = relevant_vent.apply(pd.to_numeric)\n"
   ]
  },
  {
   "cell_type": "code",
   "execution_count": 3,
   "id": "8cda7a82",
   "metadata": {},
   "outputs": [],
   "source": [
    "relevant_vent = relevant_vent[relevant_vent[\"humidity\"] > relevant_vent[\"humidity_goal\"]]"
   ]
  },
  {
   "cell_type": "code",
   "execution_count": 4,
   "id": "392e5708",
   "metadata": {},
   "outputs": [],
   "source": [
    "def e_s(T): # Source https://journals.ametsoc.org/view/journals/bams/86/2/bams-86-2-225.xml?tab_body=pdf Equation 6 p.226\n",
    "    C_1 = 610.94 #Kp\n",
    "    A_1 =  17.625\n",
    "    B_1 =243.04 #°C\n",
    "    return C_1*np.exp((A_1*T)/(B_1+T))\n",
    "\n",
    "def h(h_0, h_out, F_größe, R_größe, t, k_1, k_2):  # The absolute humidity model\n",
    "    return (h_0 -h_out)/((t+1)**((k_1*F_größe)/(k_2*R_größe))) + h_out\n",
    "\n",
    "def T(T_0, T_out, F_größe, R_größe, t, k_1, k_2): # The temperature model\n",
    "    return (T_0-T_out)/((t+1)**((k_1*F_größe)/(k_2*R_größe))) + T_out\n",
    "\n",
    "def model_h(window, room, L_out, L_begin, T_out, T_begin,t, k1,k2,k3,k4, training=False):\n",
    "    L_abs_begin = (L_begin/100)*e_s(T_begin)\n",
    "    L_abs_out = (L_out/100)*e_s(T_out)\n",
    "    pred_T = T(T_begin, T_out, window, room, t, k3, k4)\n",
    "    pred_L = h(L_abs_begin, L_abs_out, window, room, t, k1, k2)\n",
    "    result= (pred_L/e_s(pred_T))*100\n",
    "    \n",
    "    if training:\n",
    "        to_return = []\n",
    "        for res in result:\n",
    "            if res >100:\n",
    "                to_return.append(-np.inf)\n",
    "            else:\n",
    "                to_return.append(res)\n",
    "        return to_return\n",
    "    return result"
   ]
  },
  {
   "cell_type": "code",
   "execution_count": 5,
   "id": "56ede189",
   "metadata": {},
   "outputs": [],
   "source": [
    "def get_F(L_in, configs, func):\n",
    "    def F(parameters):\n",
    "        if [i for i in parameters if i <0]:\n",
    "            return np.inf\n",
    "        return sum((func(*configs, *parameters, training=True) - L_in)**2) # The sum of all errors through all measurements\n",
    "    return F\n",
    "\n",
    "\n",
    "\n",
    "# Functions generating the square error for given constants\n",
    "error_sum = get_F(relevant_vent[\"humidity_goal\"], (relevant_vent[\"Config\"], relevant_vent[\"room\"], relevant_vent[\"humidity_outside\"], \n",
    "                                                   relevant_vent[\"humidity\"], relevant_vent[\"temperature_outside\"], relevant_vent[\"temperature\"], relevant_vent[\"local time\"]), model_h)\n"
   ]
  },
  {
   "cell_type": "code",
   "execution_count": 6,
   "id": "8894dfa9",
   "metadata": {},
   "outputs": [
    {
     "data": {
      "text/plain": [
       " active_mask: array([0., 0., 0., 0.])\n",
       "        cost: 486208.09642195975\n",
       "         fun: array([986.11165334])\n",
       "        grad: array([  -7.03102842,  154.02717754,   29.56648679, -173.74319241])\n",
       "         jac: array([[-0.00713005,  0.15619649,  0.0299829 , -0.17619018]])\n",
       "     message: '`ftol` termination condition is satisfied.'\n",
       "        nfev: 223\n",
       "        njev: 217\n",
       "  optimality: 173.74319240528644\n",
       "      status: 2\n",
       "     success: True\n",
       "           x: array([49.9737675 ,  2.28452262, 49.3679433 ,  8.39747826])"
      ]
     },
     "execution_count": 6,
     "metadata": {},
     "output_type": "execute_result"
    }
   ],
   "source": [
    "start_values =   [50,1,50,1]\n",
    "\n",
    "res = sco.least_squares(error_sum, start_values, max_nfev=10**6)#\n",
    "res"
   ]
  },
  {
   "cell_type": "code",
   "execution_count": 8,
   "id": "5084e25c",
   "metadata": {},
   "outputs": [
    {
     "data": {
      "image/png": "[encoded data removed]",
      "text/plain": [
       "<Figure size 432x288 with 1 Axes>"
      ]
     },
     "metadata": {
      "needs_background": "light"
     },
     "output_type": "display_data"
    }
   ],
   "source": [
    "ax = vent[vent[\"Id\"] == 6].plot.scatter(x=\"local time\", y=\"humidity_outside\")\n",
    "vent[vent[\"Id\"] == 6].plot.scatter(x=\"local time\", y=\"humidity_bathroom_middle\", ax=ax, color=\"red\")\n",
    "\n",
    "\n",
    "x = np.linspace(0,140,500)\n",
    "y =  model_h(0.51, 20, 91,92, 3, 16.9,x, *res[\"x\"])\n",
    "\n",
    "plt.plot(x,y, 'y')\n",
    "plt.show()\n"
   ]
  }
 ],
 "metadata": {
  "kernelspec": {
   "display_name": "Python 3 (ipykernel)",
   "language": "python",
   "name": "python3"
  },
  "language_info": {
   "codemirror_mode": {
    "name": "ipython",
    "version": 3
   },
   "file_extension": ".py",
   "mimetype": "text/x-python",
   "name": "python",
   "nbconvert_exporter": "python",
   "pygments_lexer": "ipython3",
   "version": "3.9.7"
  }
 },
 "nbformat": 4,
 "nbformat_minor": 5
}
