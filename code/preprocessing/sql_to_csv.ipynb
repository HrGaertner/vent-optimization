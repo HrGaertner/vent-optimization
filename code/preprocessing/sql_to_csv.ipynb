{
 "cells": [
  {
   "cell_type": "markdown",
   "id": "7ac4811c",
   "metadata": {},
   "source": [
    "Second approach getting all datapoints"
   ]
  },
  {
   "cell_type": "code",
   "execution_count": 1,
   "id": "a2fb5521",
   "metadata": {},
   "outputs": [],
   "source": [
    "#%matplotlib\n",
    "import sqlite3\n",
    "import pandas as pd\n",
    "import matplotlib.pyplot as plt\n",
    "con = sqlite3.connect('home-assistant_v2.db')"
   ]
  },
  {
   "cell_type": "code",
   "execution_count": 2,
   "id": "3d9685d6",
   "metadata": {},
   "outputs": [],
   "source": [
    "cur = con.cursor()\n",
    "\n",
    "data = [{\"temperature\": [pd.NA], \"humidity\": [pd.NA], \"time\":[pd.NaT], \"hum_out\":[pd.NA],\"temp_out\":[pd.NA], \"humidity_oben\": [pd.NA], \"temperature_oben\":[pd.NA]}]\n",
    "\n",
    "for row in cur.execute('SELECT state, last_updated_ts, entity_id FROM states WHERE entity_id IN (\"sensor.badezimmer_temperatur\", \"sensor.badezimmer_luftfeuchtigkeit\", \"sensor.badezimmer_oben_temperatur\", \"sensor.badezimmer_oben_luftfeuchtigkeit\", \"sensor.wupws_temp\", \"sensor.wupws_humidity\") ORDER BY last_updated_ts;'):\n",
    "    new_data = data[-1].copy()\n",
    "    new_data[\"time\"] = [row[1]]\n",
    "    if row[-1].split(\"_\")[1] == \"temperatur\":\n",
    "        new_data[\"temperature\"] = [row[0]]\n",
    "    elif row[-1].split(\"_\")[1] == \"luftfeuchtigkeit\":\n",
    "        new_data[\"humidity\"] = [row[0]]\n",
    "    elif row[-1].split(\"_\")[1] == \"temp\":\n",
    "        new_data[\"temp_out\"] = [row[0]]\n",
    "    elif row[-1].split(\"_\")[1] == \"humidity\":\n",
    "        new_data[\"hum_out\"] = [row[0]]\n",
    "    elif row[-1] == \"sensor.badezimmer_oben_temperatur\":\n",
    "        new_data[\"temperature_oben\"] = [row[0]]\n",
    "    elif row[-1] == \"sensor.badezimmer_oben_luftfeuchtigkeit\":\n",
    "        new_data[\"humidity_oben\"] = [row[0]]\n",
    "    else:\n",
    "        print(row)\n",
    "    data.append(new_data)\n",
    "    data[-2] = pd.DataFrame(data[-2])\n",
    "data[-1] = pd.DataFrame(data[-1])\n",
    "#con.close()"
   ]
  },
  {
   "cell_type": "code",
   "execution_count": 61,
   "id": "c3aa8dfa",
   "metadata": {},
   "outputs": [],
   "source": [
    "data[\"time\"] = pd.to_datetime(data[\"time\"], unit='s')"
   ]
  },
  {
   "cell_type": "code",
   "execution_count": 4,
   "id": "47668329",
   "metadata": {},
   "outputs": [],
   "source": [
    "data.to_csv(\"data-test.csv\")"
   ]
  },
  {
   "cell_type": "code",
   "execution_count": 3,
   "id": "20d53db8",
   "metadata": {},
   "outputs": [],
   "source": [
    "data = pd.concat(data, ignore_index=True)"
   ]
  },
  {
   "cell_type": "code",
   "execution_count": 5,
   "id": "3b13b997",
   "metadata": {},
   "outputs": [],
   "source": [
    "con.close()"
   ]
  },
  {
   "cell_type": "code",
   "execution_count": 4,
   "id": "c18c2ff8",
   "metadata": {},
   "outputs": [
    {
     "ename": "TypeError",
     "evalue": "'>' not supported between instances of 'str' and 'int'",
     "output_type": "error",
     "traceback": [
      "\u001b[0;31m---------------------------------------------------------------------------\u001b[0m",
      "\u001b[0;31mTypeError\u001b[0m                                 Traceback (most recent call last)",
      "Cell \u001b[0;32mIn [4], line 1\u001b[0m\n\u001b[0;32m----> 1\u001b[0m data[data[\u001b[38;5;124m\"\u001b[39m\u001b[38;5;124mhumidity\u001b[39m\u001b[38;5;124m\"\u001b[39m]\u001b[38;5;241m>\u001b[39m\u001b[38;5;241m65\u001b[39m]\n",
      "File \u001b[0;32m/usr/lib64/python3.11/site-packages/pandas/core/ops/common.py:72\u001b[0m, in \u001b[0;36m_unpack_zerodim_and_defer.<locals>.new_method\u001b[0;34m(self, other)\u001b[0m\n\u001b[1;32m     68\u001b[0m             \u001b[38;5;28;01mreturn\u001b[39;00m \u001b[38;5;28mNotImplemented\u001b[39m\n\u001b[1;32m     70\u001b[0m other \u001b[38;5;241m=\u001b[39m item_from_zerodim(other)\n\u001b[0;32m---> 72\u001b[0m \u001b[38;5;28;01mreturn\u001b[39;00m \u001b[43mmethod\u001b[49m\u001b[43m(\u001b[49m\u001b[38;5;28;43mself\u001b[39;49m\u001b[43m,\u001b[49m\u001b[43m \u001b[49m\u001b[43mother\u001b[49m\u001b[43m)\u001b[49m\n",
      "File \u001b[0;32m/usr/lib64/python3.11/site-packages/pandas/core/arraylike.py:58\u001b[0m, in \u001b[0;36mOpsMixin.__gt__\u001b[0;34m(self, other)\u001b[0m\n\u001b[1;32m     56\u001b[0m \u001b[38;5;129m@unpack_zerodim_and_defer\u001b[39m(\u001b[38;5;124m\"\u001b[39m\u001b[38;5;124m__gt__\u001b[39m\u001b[38;5;124m\"\u001b[39m)\n\u001b[1;32m     57\u001b[0m \u001b[38;5;28;01mdef\u001b[39;00m \u001b[38;5;21m__gt__\u001b[39m(\u001b[38;5;28mself\u001b[39m, other):\n\u001b[0;32m---> 58\u001b[0m     \u001b[38;5;28;01mreturn\u001b[39;00m \u001b[38;5;28;43mself\u001b[39;49m\u001b[38;5;241;43m.\u001b[39;49m\u001b[43m_cmp_method\u001b[49m\u001b[43m(\u001b[49m\u001b[43mother\u001b[49m\u001b[43m,\u001b[49m\u001b[43m \u001b[49m\u001b[43moperator\u001b[49m\u001b[38;5;241;43m.\u001b[39;49m\u001b[43mgt\u001b[49m\u001b[43m)\u001b[49m\n",
      "File \u001b[0;32m/usr/lib64/python3.11/site-packages/pandas/core/series.py:6243\u001b[0m, in \u001b[0;36mSeries._cmp_method\u001b[0;34m(self, other, op)\u001b[0m\n\u001b[1;32m   6240\u001b[0m rvalues \u001b[38;5;241m=\u001b[39m extract_array(other, extract_numpy\u001b[38;5;241m=\u001b[39m\u001b[38;5;28;01mTrue\u001b[39;00m, extract_range\u001b[38;5;241m=\u001b[39m\u001b[38;5;28;01mTrue\u001b[39;00m)\n\u001b[1;32m   6242\u001b[0m \u001b[38;5;28;01mwith\u001b[39;00m np\u001b[38;5;241m.\u001b[39merrstate(\u001b[38;5;28mall\u001b[39m\u001b[38;5;241m=\u001b[39m\u001b[38;5;124m\"\u001b[39m\u001b[38;5;124mignore\u001b[39m\u001b[38;5;124m\"\u001b[39m):\n\u001b[0;32m-> 6243\u001b[0m     res_values \u001b[38;5;241m=\u001b[39m \u001b[43mops\u001b[49m\u001b[38;5;241;43m.\u001b[39;49m\u001b[43mcomparison_op\u001b[49m\u001b[43m(\u001b[49m\u001b[43mlvalues\u001b[49m\u001b[43m,\u001b[49m\u001b[43m \u001b[49m\u001b[43mrvalues\u001b[49m\u001b[43m,\u001b[49m\u001b[43m \u001b[49m\u001b[43mop\u001b[49m\u001b[43m)\u001b[49m\n\u001b[1;32m   6245\u001b[0m \u001b[38;5;28;01mreturn\u001b[39;00m \u001b[38;5;28mself\u001b[39m\u001b[38;5;241m.\u001b[39m_construct_result(res_values, name\u001b[38;5;241m=\u001b[39mres_name)\n",
      "File \u001b[0;32m/usr/lib64/python3.11/site-packages/pandas/core/ops/array_ops.py:287\u001b[0m, in \u001b[0;36mcomparison_op\u001b[0;34m(left, right, op)\u001b[0m\n\u001b[1;32m    284\u001b[0m     \u001b[38;5;28;01mreturn\u001b[39;00m invalid_comparison(lvalues, rvalues, op)\n\u001b[1;32m    286\u001b[0m \u001b[38;5;28;01melif\u001b[39;00m is_object_dtype(lvalues\u001b[38;5;241m.\u001b[39mdtype) \u001b[38;5;129;01mor\u001b[39;00m \u001b[38;5;28misinstance\u001b[39m(rvalues, \u001b[38;5;28mstr\u001b[39m):\n\u001b[0;32m--> 287\u001b[0m     res_values \u001b[38;5;241m=\u001b[39m \u001b[43mcomp_method_OBJECT_ARRAY\u001b[49m\u001b[43m(\u001b[49m\u001b[43mop\u001b[49m\u001b[43m,\u001b[49m\u001b[43m \u001b[49m\u001b[43mlvalues\u001b[49m\u001b[43m,\u001b[49m\u001b[43m \u001b[49m\u001b[43mrvalues\u001b[49m\u001b[43m)\u001b[49m\n\u001b[1;32m    289\u001b[0m \u001b[38;5;28;01melse\u001b[39;00m:\n\u001b[1;32m    290\u001b[0m     res_values \u001b[38;5;241m=\u001b[39m _na_arithmetic_op(lvalues, rvalues, op, is_cmp\u001b[38;5;241m=\u001b[39m\u001b[38;5;28;01mTrue\u001b[39;00m)\n",
      "File \u001b[0;32m/usr/lib64/python3.11/site-packages/pandas/core/ops/array_ops.py:75\u001b[0m, in \u001b[0;36mcomp_method_OBJECT_ARRAY\u001b[0;34m(op, x, y)\u001b[0m\n\u001b[1;32m     73\u001b[0m     result \u001b[38;5;241m=\u001b[39m libops\u001b[38;5;241m.\u001b[39mvec_compare(x\u001b[38;5;241m.\u001b[39mravel(), y\u001b[38;5;241m.\u001b[39mravel(), op)\n\u001b[1;32m     74\u001b[0m \u001b[38;5;28;01melse\u001b[39;00m:\n\u001b[0;32m---> 75\u001b[0m     result \u001b[38;5;241m=\u001b[39m \u001b[43mlibops\u001b[49m\u001b[38;5;241;43m.\u001b[39;49m\u001b[43mscalar_compare\u001b[49m\u001b[43m(\u001b[49m\u001b[43mx\u001b[49m\u001b[38;5;241;43m.\u001b[39;49m\u001b[43mravel\u001b[49m\u001b[43m(\u001b[49m\u001b[43m)\u001b[49m\u001b[43m,\u001b[49m\u001b[43m \u001b[49m\u001b[43my\u001b[49m\u001b[43m,\u001b[49m\u001b[43m \u001b[49m\u001b[43mop\u001b[49m\u001b[43m)\u001b[49m\n\u001b[1;32m     76\u001b[0m \u001b[38;5;28;01mreturn\u001b[39;00m result\u001b[38;5;241m.\u001b[39mreshape(x\u001b[38;5;241m.\u001b[39mshape)\n",
      "File \u001b[0;32m/usr/lib64/python3.11/site-packages/pandas/_libs/ops.pyx:107\u001b[0m, in \u001b[0;36mpandas._libs.ops.scalar_compare\u001b[0;34m()\u001b[0m\n",
      "\u001b[0;31mTypeError\u001b[0m: '>' not supported between instances of 'str' and 'int'"
     ]
    }
   ],
   "source": [
    "data[data[\"humidity\"]>65]#.plot.scatter(x=\"time\", y=\"humidity\", figsize=(120,40))"
   ]
  },
  {
   "cell_type": "code",
   "execution_count": 2,
   "id": "7348f4fb",
   "metadata": {},
   "outputs": [
    {
     "data": {
      "text/html": [
       "<div>\n",
       "<style scoped>\n",
       "    .dataframe tbody tr th:only-of-type {\n",
       "        vertical-align: middle;\n",
       "    }\n",
       "\n",
       "    .dataframe tbody tr th {\n",
       "        vertical-align: top;\n",
       "    }\n",
       "\n",
       "    .dataframe thead th {\n",
       "        text-align: right;\n",
       "    }\n",
       "</style>\n",
       "<table border=\"1\" class=\"dataframe\">\n",
       "  <thead>\n",
       "    <tr style=\"text-align: right;\">\n",
       "      <th></th>\n",
       "      <th>Unnamed: 0</th>\n",
       "      <th>temperature</th>\n",
       "      <th>humidity</th>\n",
       "      <th>time</th>\n",
       "    </tr>\n",
       "  </thead>\n",
       "  <tbody>\n",
       "    <tr>\n",
       "      <th>0</th>\n",
       "      <td>1</td>\n",
       "      <td>15.7</td>\n",
       "      <td>NaN</td>\n",
       "      <td>2022-05-02 02:15:06.958630</td>\n",
       "    </tr>\n",
       "    <tr>\n",
       "      <th>1</th>\n",
       "      <td>2</td>\n",
       "      <td>15.6</td>\n",
       "      <td>NaN</td>\n",
       "      <td>2022-05-02 02:16:14.762999</td>\n",
       "    </tr>\n",
       "    <tr>\n",
       "      <th>2</th>\n",
       "      <td>3</td>\n",
       "      <td>15.5</td>\n",
       "      <td>NaN</td>\n",
       "      <td>2022-05-02 02:29:47.205489</td>\n",
       "    </tr>\n",
       "    <tr>\n",
       "      <th>3</th>\n",
       "      <td>4</td>\n",
       "      <td>20.0</td>\n",
       "      <td>NaN</td>\n",
       "      <td>2022-05-02 02:33:43.650160</td>\n",
       "    </tr>\n",
       "    <tr>\n",
       "      <th>4</th>\n",
       "      <td>5</td>\n",
       "      <td>15.4</td>\n",
       "      <td>NaN</td>\n",
       "      <td>2022-05-02 02:34:24.430729</td>\n",
       "    </tr>\n",
       "    <tr>\n",
       "      <th>...</th>\n",
       "      <td>...</td>\n",
       "      <td>...</td>\n",
       "      <td>...</td>\n",
       "      <td>...</td>\n",
       "    </tr>\n",
       "    <tr>\n",
       "      <th>8921</th>\n",
       "      <td>8922</td>\n",
       "      <td>24.2</td>\n",
       "      <td>56.0</td>\n",
       "      <td>2022-05-12 07:06:18.862979</td>\n",
       "    </tr>\n",
       "    <tr>\n",
       "      <th>8922</th>\n",
       "      <td>8923</td>\n",
       "      <td>24.2</td>\n",
       "      <td>55.0</td>\n",
       "      <td>2022-05-12 07:07:11.028293</td>\n",
       "    </tr>\n",
       "    <tr>\n",
       "      <th>8923</th>\n",
       "      <td>8924</td>\n",
       "      <td>24.2</td>\n",
       "      <td>56.0</td>\n",
       "      <td>2022-05-12 07:08:56.662981</td>\n",
       "    </tr>\n",
       "    <tr>\n",
       "      <th>8924</th>\n",
       "      <td>8925</td>\n",
       "      <td>24.2</td>\n",
       "      <td>55.0</td>\n",
       "      <td>2022-05-12 07:11:31.391785</td>\n",
       "    </tr>\n",
       "    <tr>\n",
       "      <th>8925</th>\n",
       "      <td>8926</td>\n",
       "      <td>24.2</td>\n",
       "      <td>56.0</td>\n",
       "      <td>2022-05-12 07:13:01.922708</td>\n",
       "    </tr>\n",
       "  </tbody>\n",
       "</table>\n",
       "<p>8926 rows × 4 columns</p>\n",
       "</div>"
      ],
      "text/plain": [
       "      Unnamed: 0  temperature  humidity                       time\n",
       "0              1         15.7       NaN 2022-05-02 02:15:06.958630\n",
       "1              2         15.6       NaN 2022-05-02 02:16:14.762999\n",
       "2              3         15.5       NaN 2022-05-02 02:29:47.205489\n",
       "3              4         20.0       NaN 2022-05-02 02:33:43.650160\n",
       "4              5         15.4       NaN 2022-05-02 02:34:24.430729\n",
       "...          ...          ...       ...                        ...\n",
       "8921        8922         24.2      56.0 2022-05-12 07:06:18.862979\n",
       "8922        8923         24.2      55.0 2022-05-12 07:07:11.028293\n",
       "8923        8924         24.2      56.0 2022-05-12 07:08:56.662981\n",
       "8924        8925         24.2      55.0 2022-05-12 07:11:31.391785\n",
       "8925        8926         24.2      56.0 2022-05-12 07:13:01.922708\n",
       "\n",
       "[8926 rows x 4 columns]"
      ]
     },
     "execution_count": 2,
     "metadata": {},
     "output_type": "execute_result"
    }
   ],
   "source": [
    "data = pd.read_csv(\"data_bll_v2.csv\", sep=\";\")\n",
    "data[\"humidity\"] = pd.to_numeric(data[\"humidity\"], errors='coerce')\n",
    "data[\"temperature\"] = pd.to_numeric(data[\"temperature\"], errors='coerce')\n",
    "data[\"time\"] = pd.to_datetime(data[\"time\"], format=\"%Y-%m-%d %H:%M:%S\")\n",
    "data"
   ]
  },
  {
   "cell_type": "code",
   "execution_count": 3,
   "id": "4355447b",
   "metadata": {},
   "outputs": [],
   "source": [
    "plt.plot(data[\"time\"], data[\"humidity\"])\n",
    "plt.ylabel('relative Luftfeuchtigkeit')\n",
    "plt.xlabel('Zeit')\n",
    "plt.show()"
   ]
  },
  {
   "cell_type": "code",
   "execution_count": 3,
   "id": "83f2e2db",
   "metadata": {},
   "outputs": [],
   "source": [
    "import datetime\n",
    "to_process = pd.read_csv(\"data.../duschen.csv\")\n",
    "shower_max=0\n",
    "# for shower\n",
    "showering = []\n",
    "\n",
    "current_ID = shower_max +1\n",
    "\n",
    "for i in range(len(to_process)):\n",
    "    year, month = 2022, 5#to_process[\"Monat\"][i]\n",
    "    day_start, day_end = to_process[\"Tag\"][i], to_process[\"Tag\"][i]\n",
    "    if to_process[\"Beginn\"][i] > to_process[\"Ende\"][i]:\n",
    "        time_end = to_process[\"Stunde\"][i]+1\n",
    "    else:\n",
    "        time_end = to_process[\"Stunde\"][i]\n",
    "    start = datetime.datetime(year, month, day_start, to_process[\"Stunde\"][i], to_process[\"Beginn\"][i])\n",
    "    end = datetime.datetime(year, month, day_end, time_end, to_process[\"Ende\"][i])\n",
    "    time_mask = (data['time'] >= start) & \\\n",
    "            (data['time'] <= end)\n",
    "    showering.append(data[time_mask].copy())\n",
    "    showering[-1][\"Id\"] = current_ID\n",
    "    current_ID += 1\n",
    "\n",
    "showering = pd.concat(showering, ignore_index=True)"
   ]
  },
  {
   "cell_type": "code",
   "execution_count": 4,
   "id": "3b0981d1",
   "metadata": {},
   "outputs": [],
   "source": [
    "dush = showering\n",
    "id = -1\n",
    "local_time = []\n",
    "for i in range(len(dush)):  \n",
    "    if dush.iloc[i][\"Id\"] != id:\n",
    "        id = dush.iloc[i][\"Id\"]\n",
    "        first_time = dush.iloc[i][\"time\"]\n",
    "        time = 0\n",
    "    else:\n",
    "        time = (dush.iloc[i][\"time\"] - first_time).seconds//60\n",
    "        \n",
    "    local_time.append(time)\n",
    "dush[\"local time\"] = local_time\n",
    "dush[\"room\"] = \"middle\""
   ]
  },
  {
   "cell_type": "code",
   "execution_count": 8,
   "id": "33c98d92",
   "metadata": {
    "scrolled": true
   },
   "outputs": [
    {
     "data": {
      "image/png": "[encoded data removed]",
      "text/plain": [
       "<Figure size 432x288 with 1 Axes>"
      ]
     },
     "metadata": {
      "needs_background": "light"
     },
     "output_type": "display_data"
    }
   ],
   "source": [
    "dush.plot.scatter(x=\"local time\", y=\"humidity\")\n",
    "dush.to_csv(\"shower.csv\", sep=\";\")"
   ]
  },
  {
   "cell_type": "code",
   "execution_count": 9,
   "id": "d09a2896",
   "metadata": {},
   "outputs": [],
   "source": [
    "dush = pd.read_csv(\"shower.csv\", sep=\";\")\n",
    "import numpy as np\n",
    "\n",
    "def relative_to_absolute(humidity, temperature):  # Source https://journals.ametsoc.org/view/journals/bams/86/2/bams-86-2-225.xml?tab_body=pdf Equation 10 p.226\n",
    "    T = temperature + 273.15 # Converting Celsius to Kelvin\n",
    "    Rw = 461.5 # JK^(-1)kg^(-1)\n",
    "    C2 = 2.53 * 10**8 #kPa\n",
    "    L =  2.501 * 10**6 #J kg^(-1)\n",
    "    return (humidity/100)*(C2*np.exp((-L/Rw)/T))\n",
    "\n",
    "absolute = []\n",
    "for index, row in dush.iterrows():\n",
    "    if isinstance(row[\"temperature\"], float) and isinstance(row[\"humidity\"],float):\n",
    "        absolute.append(relative_to_absolute(row[\"humidity\"], row[\"temperature\"]))\n",
    "    else:\n",
    "        absolute.append(\"NaN\")\n",
    "\n",
    "dush[\"absolute\"] = absolute"
   ]
  },
  {
   "cell_type": "code",
   "execution_count": 11,
   "id": "08631c14",
   "metadata": {},
   "outputs": [
    {
     "data": {
      "text/plain": [
       "<AxesSubplot:xlabel='local time', ylabel='absolute'>"
      ]
     },
     "execution_count": 11,
     "metadata": {},
     "output_type": "execute_result"
    },
    {
     "data": {
      "image/png": "[encoded data removed]",
      "text/plain": [
       "<Figure size 432x288 with 1 Axes>"
      ]
     },
     "metadata": {
      "needs_background": "light"
     },
     "output_type": "display_data"
    }
   ],
   "source": [
    "dush.plot.scatter(x=\"local time\", y=\"absolute\")"
   ]
  },
  {
   "cell_type": "code",
   "execution_count": 12,
   "id": "352972dd",
   "metadata": {},
   "outputs": [
    {
     "data": {
      "text/plain": [
       "<AxesSubplot:xlabel='local time', ylabel='temperature'>"
      ]
     },
     "execution_count": 12,
     "metadata": {},
     "output_type": "execute_result"
    },
    {
     "data": {
      "image/png": "[encoded data removed]",
      "text/plain": [
       "<Figure size 432x288 with 1 Axes>"
      ]
     },
     "metadata": {
      "needs_background": "light"
     },
     "output_type": "display_data"
    }
   ],
   "source": [
    "dush.plot.scatter(x=\"local time\", y=\"temperature\")"
   ]
  }
 ],
 "metadata": {
  "kernelspec": {
   "display_name": "Python 3 (ipykernel)",
   "language": "python",
   "name": "python3"
  },
  "language_info": {
   "codemirror_mode": {
    "name": "ipython",
    "version": 3
   },
   "file_extension": ".py",
   "mimetype": "text/x-python",
   "name": "python",
   "nbconvert_exporter": "python",
   "pygments_lexer": "ipython3",
   "version": "3.11.1"
  }
 },
 "nbformat": 4,
 "nbformat_minor": 5
}
